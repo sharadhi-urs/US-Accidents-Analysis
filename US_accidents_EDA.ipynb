{
 "cells": [
  {
   "cell_type": "markdown",
   "metadata": {},
   "source": [
    "## U.S Accidents Data Analysis\n",
    "\n",
    "This project analyzes the US Accidents dataset availabe on Kaggle. The dataset contains over four million accident records from February 2016 to March 2023. Each record includes details such as the location, time, severity, and weather conditions at the time of the accident. This analysis aims to understand patterns and report insights about accidents based on time, location and other factors."
   ]
  },
  {
   "cell_type": "markdown",
   "metadata": {},
   "source": [
    "#### Data Loading and Inspection"
   ]
  },
  {
   "cell_type": "code",
   "execution_count": null,
   "metadata": {},
   "outputs": [],
   "source": [
    "# Import necessary libraries\n",
    "\n",
    "import pandas as pd\n",
    "import seaborn as sns\n",
    "import matplotlib.pyplot as plt\n",
    "import folium\n",
    "from folium.plugins import HeatMap\n",
    "\n",
    "# Load the dataset\n",
    "df = pd.read_csv('US_Accidents_March23.csv')\n",
    "\n",
    "# Display the first few rows of the dataset\n",
    "df.head()\n"
   ]
  },
  {
   "cell_type": "markdown",
   "metadata": {},
   "source": [
    "#### Data Cleaning and Preparation"
   ]
  },
  {
   "cell_type": "code",
   "execution_count": null,
   "metadata": {},
   "outputs": [],
   "source": [
    "# Drop unnecessary columns\n",
    "\n",
    "columns_to_drop = ['ID','Number','Country','Airport_Code','Country','Wind_Chill(F)','Precipitation(in)','Weather_Timestamp','Description']\n",
    "df = df.drop(columns_to_drop, axis=1)\n",
    "\n",
    "# Remove missing values\n",
    "df = df.dropna()\n",
    "\n",
    "#convert Start_Time to datetime\n",
    "df['Start_Time'] = pd.to_datetime(df['Start_Time'])\n",
    "\n",
    "# Extract date and time components\n",
    "df['Start_Hour'] = df['Start_Time'].dt.hour\n",
    "df['Start_Day'] = df['Start_Time'].dt.dayofweek\n",
    "df['Start_Month'] = df['Start_Time'].dt.month\n",
    "df['Start_Year'] = df['Start_Time'].dt.year\n",
    "\n",
    "# Basic Statistics\n",
    "df.describe()"
   ]
  },
  {
   "cell_type": "markdown",
   "metadata": {},
   "source": [
    "#### Exploratory Data Analysis (EDA)"
   ]
  },
  {
   "cell_type": "markdown",
   "metadata": {},
   "source": [
    " Distribution of accidents by hour"
   ]
  },
  {
   "cell_type": "code",
   "execution_count": null,
   "metadata": {},
   "outputs": [],
   "source": [
    "plt.figure(figsize=(10,6))\n",
    "sns.histplot(df['Start_Hour'], bins=24, kde=False, color='blue')\n",
    "plt.title('Distribution of Accidents by Hour')\n",
    "plt.xlabel('Hour of Day')\n",
    "plt.ylabel('Frequency')\n",
    "plt.show()"
   ]
  },
  {
   "cell_type": "markdown",
   "metadata": {},
   "source": [
    "Distribution of accidents by day of the week"
   ]
  },
  {
   "cell_type": "code",
   "execution_count": null,
   "metadata": {},
   "outputs": [],
   "source": [
    "plt.figure(figsize=(10, 6))\n",
    "sns.countplot(df['Start_Day'], color='orange')\n",
    "plt.title('Distribution of Accidents by Day of the Week')\n",
    "plt.xlabel('Day of the Week')\n",
    "plt.ylabel('Frequency')\n",
    "plt.xticks(ticks=[0, 1, 2, 3, 4, 5, 6], labels=['Mon', 'Tue', 'Wed', 'Thu', 'Fri', 'Sat', 'Sun'])\n",
    "plt.show()"
   ]
  },
  {
   "cell_type": "markdown",
   "metadata": {},
   "source": [
    "Distribution of accidents by month"
   ]
  },
  {
   "cell_type": "code",
   "execution_count": null,
   "metadata": {},
   "outputs": [],
   "source": [
    "plt.figure(figsize=(10, 6))\n",
    "sns.countplot(df['Start_Month'], color='green')\n",
    "plt.title('Distribution of Accidents by Month')\n",
    "plt.xlabel('Month')\n",
    "plt.ylabel('Frequency')\n",
    "plt.xticks(ticks=range(1, 13), labels=['Jan', 'Feb', 'Mar', 'Apr', 'May', 'Jun', 'Jul', 'Aug', 'Sep', 'Oct', 'Nov', 'Dec'])\n",
    "plt.show()"
   ]
  },
  {
   "cell_type": "markdown",
   "metadata": {},
   "source": [
    "Distribution of accidents by year"
   ]
  },
  {
   "cell_type": "code",
   "execution_count": null,
   "metadata": {},
   "outputs": [],
   "source": [
    "plt.figure(figsize=(10, 6))\n",
    "sns.countplot(df['Start_Year'], color='purple')\n",
    "plt.title('Distribution of Accidents by Year')\n",
    "plt.xlabel('Year')\n",
    "plt.ylabel('Frequency')\n",
    "plt.show()"
   ]
  },
  {
   "cell_type": "markdown",
   "metadata": {},
   "source": [
    "Correlation Matrix"
   ]
  },
  {
   "cell_type": "code",
   "execution_count": null,
   "metadata": {},
   "outputs": [],
   "source": [
    "plt.figure(figsize=(12, 8))\n",
    "corr_matrix = df.corr()\n",
    "sns.heatmap(corr_matrix, annot=True, cmap='coolwarm')\n",
    "plt.title('Correlation Matrix')\n",
    "plt.show()"
   ]
  },
  {
   "cell_type": "markdown",
   "metadata": {},
   "source": [
    "Pair Plot for key variables"
   ]
  },
  {
   "cell_type": "code",
   "execution_count": null,
   "metadata": {},
   "outputs": [],
   "source": [
    "subset_df = df[['Severity', 'Temperature(F)', 'Humidity(%)', 'Pressure(in)', 'Visibility(mi)', 'Wind_Speed(mph)']]\n",
    "sns.pairplot(subset_df)\n",
    "plt.show()"
   ]
  },
  {
   "cell_type": "markdown",
   "metadata": {},
   "source": [
    "Geospatial Analysis"
   ]
  },
  {
   "cell_type": "code",
   "execution_count": null,
   "metadata": {},
   "outputs": [],
   "source": [
    "# Sample a fraction of the data\n",
    "sample_df = df.sample(frac=0.01, random_state=42)\n",
    "\n",
    "# Create a folium map for accident locations\n",
    "map = folium.Map(location=[sample_df['Start_Lat'].mean(), sample_df['Start_Lng'].mean()], zoom_start=5)\n",
    "heat_data = [[row['Start_Lat'], row['Start_Lng']] for index, row in sample_df.iterrows()]\n",
    "HeatMap(heat_data).add_to(map)\n",
    "map"
   ]
  },
  {
   "cell_type": "markdown",
   "metadata": {},
   "source": [
    "Clustering Example"
   ]
  },
  {
   "cell_type": "code",
   "execution_count": null,
   "metadata": {},
   "outputs": [],
   "source": [
    "from sklearn.cluster import KMeans\n",
    "\n",
    "# Choosing a subset of the data for clustering\n",
    "cluster_data = df[['Start_Lat', 'Start_Lng']].sample(10000, random_state=42)\n",
    "\n",
    "# Applying KMeans clustering\n",
    "kmeans = KMeans(n_clusters=5, random_state=42)\n",
    "cluster_data['Cluster'] = kmeans.fit_predict(cluster_data)\n",
    "\n",
    "# Plotting the clusters on a map\n",
    "map_clusters = folium.Map(location=[cluster_data['Start_Lat'].mean(), cluster_data['Start_Lng'].mean()], zoom_start=5)\n",
    "for idx, row in cluster_data.iterrows():\n",
    "    folium.CircleMarker([row['Start_Lat'], row['Start_Lng']],\n",
    "                        radius=3,\n",
    "                        color='red' if row['Cluster'] == 0 else 'blue' if row['Cluster'] == 1 else 'green' if row['Cluster'] == 2 else 'purple' if row['Cluster'] == 3 else 'orange',\n",
    "                        fill=True).add_to(map_clusters)\n",
    "\n",
    "map_clusters"
   ]
  },
  {
   "cell_type": "markdown",
   "metadata": {},
   "source": [
    "#### Conclusion\n",
    "\n",
    "- Most accidents occur during rush hours.\n",
    "- The number of accidents varies significantly by day of the week and month.\n",
    "- Heat maps show accident hotspots across the United States.\n",
    "- Correlation analysis reveals potential relationships between weather conditions and accident severity."
   ]
  }
 ],
 "metadata": {
  "kernelspec": {
   "display_name": "Python 3",
   "language": "python",
   "name": "python3"
  },
  "language_info": {
   "codemirror_mode": {
    "name": "ipython",
    "version": 3
   },
   "file_extension": ".py",
   "mimetype": "text/x-python",
   "name": "python",
   "nbconvert_exporter": "python",
   "pygments_lexer": "ipython3",
   "version": "3.12.1"
  }
 },
 "nbformat": 4,
 "nbformat_minor": 2
}
